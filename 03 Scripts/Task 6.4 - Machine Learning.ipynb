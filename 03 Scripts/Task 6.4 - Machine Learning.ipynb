{
 "cells": [
  {
   "cell_type": "markdown",
   "id": "8099c640-0ca4-4226-9b23-9b2392fbac17",
   "metadata": {},
   "source": [
    "# 01. Importing Libraries"
   ]
  },
  {
   "cell_type": "code",
   "execution_count": 18,
   "id": "3f859c90-57e0-4686-b7b5-60f3ed97dba0",
   "metadata": {},
   "outputs": [],
   "source": [
    "import pandas as pd\n",
    "import numpy as np\n",
    "import seaborn as sns\n",
    "import matplotlib\n",
    "import matplotlib.pyplot as plt\n",
    "import os\n",
    "import sklearn\n",
    "from sklearn.model_selection import train_test_split \n",
    "from sklearn.linear_model import LinearRegression\n",
    "from sklearn.metrics import mean_squared_error, r2_score"
   ]
  },
  {
   "cell_type": "code",
   "execution_count": 19,
   "id": "8c1836b2-cc92-4380-80a0-b5ecf41a4722",
   "metadata": {},
   "outputs": [],
   "source": [
    "%matplotlib inline"
   ]
  },
  {
   "cell_type": "markdown",
   "id": "237d9e45-fd12-4262-884c-42f7aa6abb45",
   "metadata": {},
   "source": [
    "# 02. Importing Data"
   ]
  },
  {
   "cell_type": "code",
   "execution_count": 20,
   "id": "03a84813-e300-43a7-b708-3695b73c0946",
   "metadata": {},
   "outputs": [],
   "source": [
    "path = r'C:\\Users\\Rebecca\\Library Funding and Literacy Rates'"
   ]
  },
  {
   "cell_type": "code",
   "execution_count": 21,
   "id": "604d149b-b519-4b0d-8245-24dddf083645",
   "metadata": {},
   "outputs": [
    {
     "data": {
      "text/plain": [
       "'C:\\\\Users\\\\Rebecca\\\\Library Funding and Literacy Rates'"
      ]
     },
     "execution_count": 21,
     "metadata": {},
     "output_type": "execute_result"
    }
   ],
   "source": [
    "path"
   ]
  },
  {
   "cell_type": "code",
   "execution_count": 22,
   "id": "7f214184-dd35-4b74-b3dd-6c3f6f1f7200",
   "metadata": {},
   "outputs": [],
   "source": [
    "df_public_libraries = pd.read_csv(os.path.join(path, '02 Data', 'Prepared Data', 'public_libraries_prepared.csv'), index_col = False, encoding='latin1')"
   ]
  },
  {
   "cell_type": "markdown",
   "id": "87290240-013d-4833-a90d-e5029d765d84",
   "metadata": {},
   "source": [
    "# 03. Data Cleaning"
   ]
  },
  {
   "cell_type": "code",
   "execution_count": 23,
   "id": "31cfdccd-facb-4e8e-b79f-1dd454c10168",
   "metadata": {},
   "outputs": [
    {
     "data": {
      "text/plain": [
       "Index(['Unnamed: 0', 'STABR', 'FSCSKEY', 'LIBID', 'LIBNAME', 'ADDRESS', 'CITY',\n",
       "       'ZIP', 'ZIP4', 'ADDRES_M',\n",
       "       ...\n",
       "       'GEOSCORE', 'GEOMTYPE', 'C19CLOSE', 'C19PUBSV', 'C19ECRD2', 'C19REFER',\n",
       "       'C19OUTSD', 'C19XWIF2', 'C19XWIF3', 'C19STOTH'],\n",
       "      dtype='object', length=193)"
      ]
     },
     "execution_count": 23,
     "metadata": {},
     "output_type": "execute_result"
    }
   ],
   "source": [
    "df_public_libraries.columns"
   ]
  },
  {
   "cell_type": "code",
   "execution_count": 24,
   "id": "4cd28d17-7e31-4b3a-b057-915a9ad664ef",
   "metadata": {},
   "outputs": [
    {
     "data": {
      "text/html": [
       "<div>\n",
       "<style scoped>\n",
       "    .dataframe tbody tr th:only-of-type {\n",
       "        vertical-align: middle;\n",
       "    }\n",
       "\n",
       "    .dataframe tbody tr th {\n",
       "        vertical-align: top;\n",
       "    }\n",
       "\n",
       "    .dataframe thead th {\n",
       "        text-align: right;\n",
       "    }\n",
       "</style>\n",
       "<table border=\"1\" class=\"dataframe\">\n",
       "  <thead>\n",
       "    <tr style=\"text-align: right;\">\n",
       "      <th></th>\n",
       "      <th>Unnamed: 0</th>\n",
       "      <th>STABR</th>\n",
       "      <th>FSCSKEY</th>\n",
       "      <th>LIBID</th>\n",
       "      <th>LIBNAME</th>\n",
       "      <th>ADDRESS</th>\n",
       "      <th>CITY</th>\n",
       "      <th>ZIP</th>\n",
       "      <th>ZIP4</th>\n",
       "      <th>ADDRES_M</th>\n",
       "      <th>...</th>\n",
       "      <th>GEOSCORE</th>\n",
       "      <th>GEOMTYPE</th>\n",
       "      <th>C19CLOSE</th>\n",
       "      <th>C19PUBSV</th>\n",
       "      <th>C19ECRD2</th>\n",
       "      <th>C19REFER</th>\n",
       "      <th>C19OUTSD</th>\n",
       "      <th>C19XWIF2</th>\n",
       "      <th>C19XWIF3</th>\n",
       "      <th>C19STOTH</th>\n",
       "    </tr>\n",
       "  </thead>\n",
       "  <tbody>\n",
       "    <tr>\n",
       "      <th>0</th>\n",
       "      <td>0</td>\n",
       "      <td>AK</td>\n",
       "      <td>AK0001</td>\n",
       "      <td>AK0001-002</td>\n",
       "      <td>ANCHOR POINT PUBLIC LIBRARY</td>\n",
       "      <td>34020 NORTH FORK ROAD</td>\n",
       "      <td>ANCHOR POINT</td>\n",
       "      <td>99556</td>\n",
       "      <td>9150</td>\n",
       "      <td>P.O. BOX 129</td>\n",
       "      <td>...</td>\n",
       "      <td>100.00</td>\n",
       "      <td>POINTADDRESS</td>\n",
       "      <td>M</td>\n",
       "      <td>M</td>\n",
       "      <td>M</td>\n",
       "      <td>N</td>\n",
       "      <td>M</td>\n",
       "      <td>M</td>\n",
       "      <td>M</td>\n",
       "      <td>M</td>\n",
       "    </tr>\n",
       "    <tr>\n",
       "      <th>1</th>\n",
       "      <td>1</td>\n",
       "      <td>AK</td>\n",
       "      <td>AK0002</td>\n",
       "      <td>AK0002-011</td>\n",
       "      <td>ANCHORAGE PUBLIC LIBRARY</td>\n",
       "      <td>3600 DENALI STREET</td>\n",
       "      <td>ANCHORAGE</td>\n",
       "      <td>99503</td>\n",
       "      <td>6055</td>\n",
       "      <td>3600 DENALI STREET</td>\n",
       "      <td>...</td>\n",
       "      <td>100.00</td>\n",
       "      <td>POINTADDRESS</td>\n",
       "      <td>N</td>\n",
       "      <td>Y</td>\n",
       "      <td>N</td>\n",
       "      <td>Y</td>\n",
       "      <td>N</td>\n",
       "      <td>N</td>\n",
       "      <td>Y</td>\n",
       "      <td>N</td>\n",
       "    </tr>\n",
       "    <tr>\n",
       "      <th>2</th>\n",
       "      <td>2</td>\n",
       "      <td>AK</td>\n",
       "      <td>AK0003</td>\n",
       "      <td>AK0003-002</td>\n",
       "      <td>ANDERSON COMMUNITY LIBRARY</td>\n",
       "      <td>101 FIRST STREET</td>\n",
       "      <td>ANDERSON</td>\n",
       "      <td>99744</td>\n",
       "      <td>M</td>\n",
       "      <td>P.O. BOX 3078</td>\n",
       "      <td>...</td>\n",
       "      <td>99.62</td>\n",
       "      <td>STREETADDRESS</td>\n",
       "      <td>Y</td>\n",
       "      <td>Y</td>\n",
       "      <td>Y</td>\n",
       "      <td>Y</td>\n",
       "      <td>N</td>\n",
       "      <td>Y</td>\n",
       "      <td>N</td>\n",
       "      <td>Y</td>\n",
       "    </tr>\n",
       "    <tr>\n",
       "      <th>3</th>\n",
       "      <td>3</td>\n",
       "      <td>AK</td>\n",
       "      <td>AK0006</td>\n",
       "      <td>AK0006-002</td>\n",
       "      <td>KUSKOKWIM CONSORTIUM LIBRARY</td>\n",
       "      <td>420 CHIEF EDDIE HOFFMAN HIGHWAY</td>\n",
       "      <td>BETHEL</td>\n",
       "      <td>99559</td>\n",
       "      <td>M</td>\n",
       "      <td>P.O. BOX 368</td>\n",
       "      <td>...</td>\n",
       "      <td>100.00</td>\n",
       "      <td>MANUAL</td>\n",
       "      <td>N</td>\n",
       "      <td>N</td>\n",
       "      <td>N</td>\n",
       "      <td>N</td>\n",
       "      <td>N</td>\n",
       "      <td>N</td>\n",
       "      <td>N</td>\n",
       "      <td>N</td>\n",
       "    </tr>\n",
       "    <tr>\n",
       "      <th>4</th>\n",
       "      <td>4</td>\n",
       "      <td>AK</td>\n",
       "      <td>AK0007</td>\n",
       "      <td>AK0007-002</td>\n",
       "      <td>BIG LAKE PUBLIC LIBRARY</td>\n",
       "      <td>3140 SOUTH BIG LAKE ROAD</td>\n",
       "      <td>WASILLA</td>\n",
       "      <td>99623</td>\n",
       "      <td>9663</td>\n",
       "      <td>P.O. BOX 520829</td>\n",
       "      <td>...</td>\n",
       "      <td>99.58</td>\n",
       "      <td>POINTADDRESS</td>\n",
       "      <td>Y</td>\n",
       "      <td>Y</td>\n",
       "      <td>Y</td>\n",
       "      <td>Y</td>\n",
       "      <td>Y</td>\n",
       "      <td>N</td>\n",
       "      <td>N</td>\n",
       "      <td>N</td>\n",
       "    </tr>\n",
       "    <tr>\n",
       "      <th>5</th>\n",
       "      <td>5</td>\n",
       "      <td>AK</td>\n",
       "      <td>AK0008</td>\n",
       "      <td>AK0008-002</td>\n",
       "      <td>CANTWELL COMMUNITY LIBRARY</td>\n",
       "      <td>1 SCHOOL ROAD</td>\n",
       "      <td>CANTWELL</td>\n",
       "      <td>99729</td>\n",
       "      <td>M</td>\n",
       "      <td>P.O. BOX 68</td>\n",
       "      <td>...</td>\n",
       "      <td>100.00</td>\n",
       "      <td>MANUAL</td>\n",
       "      <td>N</td>\n",
       "      <td>Y</td>\n",
       "      <td>N</td>\n",
       "      <td>Y</td>\n",
       "      <td>Y</td>\n",
       "      <td>Y</td>\n",
       "      <td>Y</td>\n",
       "      <td>N</td>\n",
       "    </tr>\n",
       "    <tr>\n",
       "      <th>6</th>\n",
       "      <td>6</td>\n",
       "      <td>AK</td>\n",
       "      <td>AK0011</td>\n",
       "      <td>AK0011-002</td>\n",
       "      <td>CHINIAK PUBLIC LIBRARY</td>\n",
       "      <td>43318 SPRUCE WAY</td>\n",
       "      <td>CHINIAK</td>\n",
       "      <td>99615</td>\n",
       "      <td>M</td>\n",
       "      <td>P.O. BOX 5610</td>\n",
       "      <td>...</td>\n",
       "      <td>99.90</td>\n",
       "      <td>STREETADDRESS</td>\n",
       "      <td>N</td>\n",
       "      <td>N</td>\n",
       "      <td>N</td>\n",
       "      <td>N</td>\n",
       "      <td>N</td>\n",
       "      <td>N</td>\n",
       "      <td>N</td>\n",
       "      <td>N</td>\n",
       "    </tr>\n",
       "    <tr>\n",
       "      <th>7</th>\n",
       "      <td>7</td>\n",
       "      <td>AK</td>\n",
       "      <td>AK0014</td>\n",
       "      <td>AK0014-002</td>\n",
       "      <td>COLD BAY PUBLIC LIBRARY</td>\n",
       "      <td>10 BARANOV ROAD</td>\n",
       "      <td>COLD BAY</td>\n",
       "      <td>99571</td>\n",
       "      <td>M</td>\n",
       "      <td>P.O. BOX 87</td>\n",
       "      <td>...</td>\n",
       "      <td>100.00</td>\n",
       "      <td>MANUAL</td>\n",
       "      <td>Y</td>\n",
       "      <td>Y</td>\n",
       "      <td>N</td>\n",
       "      <td>Y</td>\n",
       "      <td>Y</td>\n",
       "      <td>N</td>\n",
       "      <td>N</td>\n",
       "      <td>N</td>\n",
       "    </tr>\n",
       "    <tr>\n",
       "      <th>8</th>\n",
       "      <td>8</td>\n",
       "      <td>AK</td>\n",
       "      <td>AK0015</td>\n",
       "      <td>AK0015-002</td>\n",
       "      <td>COOPER LANDING COMMUNITY LIBRARY</td>\n",
       "      <td>18511 BEAN CREEK ROAD</td>\n",
       "      <td>COOPER LANDING</td>\n",
       "      <td>99572</td>\n",
       "      <td>M</td>\n",
       "      <td>P.O. BOX 517</td>\n",
       "      <td>...</td>\n",
       "      <td>100.00</td>\n",
       "      <td>POINTADDRESS</td>\n",
       "      <td>N</td>\n",
       "      <td>N</td>\n",
       "      <td>N</td>\n",
       "      <td>N</td>\n",
       "      <td>N</td>\n",
       "      <td>Y</td>\n",
       "      <td>Y</td>\n",
       "      <td>N</td>\n",
       "    </tr>\n",
       "    <tr>\n",
       "      <th>9</th>\n",
       "      <td>9</td>\n",
       "      <td>AK</td>\n",
       "      <td>AK0016</td>\n",
       "      <td>AK0016-002</td>\n",
       "      <td>CORDOVA PUBLIC LIBRARY</td>\n",
       "      <td>601 FIRST STREET</td>\n",
       "      <td>CORDOVA</td>\n",
       "      <td>99574</td>\n",
       "      <td>M</td>\n",
       "      <td>P.O. BOX 1210</td>\n",
       "      <td>...</td>\n",
       "      <td>100.00</td>\n",
       "      <td>MANUAL</td>\n",
       "      <td>N</td>\n",
       "      <td>N</td>\n",
       "      <td>N</td>\n",
       "      <td>N</td>\n",
       "      <td>N</td>\n",
       "      <td>N</td>\n",
       "      <td>N</td>\n",
       "      <td>N</td>\n",
       "    </tr>\n",
       "  </tbody>\n",
       "</table>\n",
       "<p>10 rows × 193 columns</p>\n",
       "</div>"
      ],
      "text/plain": [
       "   Unnamed: 0 STABR FSCSKEY       LIBID                           LIBNAME  \\\n",
       "0           0    AK  AK0001  AK0001-002       ANCHOR POINT PUBLIC LIBRARY   \n",
       "1           1    AK  AK0002  AK0002-011          ANCHORAGE PUBLIC LIBRARY   \n",
       "2           2    AK  AK0003  AK0003-002        ANDERSON COMMUNITY LIBRARY   \n",
       "3           3    AK  AK0006  AK0006-002      KUSKOKWIM CONSORTIUM LIBRARY   \n",
       "4           4    AK  AK0007  AK0007-002           BIG LAKE PUBLIC LIBRARY   \n",
       "5           5    AK  AK0008  AK0008-002        CANTWELL COMMUNITY LIBRARY   \n",
       "6           6    AK  AK0011  AK0011-002            CHINIAK PUBLIC LIBRARY   \n",
       "7           7    AK  AK0014  AK0014-002           COLD BAY PUBLIC LIBRARY   \n",
       "8           8    AK  AK0015  AK0015-002  COOPER LANDING COMMUNITY LIBRARY   \n",
       "9           9    AK  AK0016  AK0016-002            CORDOVA PUBLIC LIBRARY   \n",
       "\n",
       "                           ADDRESS            CITY    ZIP  ZIP4  \\\n",
       "0            34020 NORTH FORK ROAD    ANCHOR POINT  99556  9150   \n",
       "1               3600 DENALI STREET       ANCHORAGE  99503  6055   \n",
       "2                 101 FIRST STREET        ANDERSON  99744     M   \n",
       "3  420 CHIEF EDDIE HOFFMAN HIGHWAY          BETHEL  99559     M   \n",
       "4         3140 SOUTH BIG LAKE ROAD         WASILLA  99623  9663   \n",
       "5                    1 SCHOOL ROAD        CANTWELL  99729     M   \n",
       "6                 43318 SPRUCE WAY         CHINIAK  99615     M   \n",
       "7                  10 BARANOV ROAD        COLD BAY  99571     M   \n",
       "8            18511 BEAN CREEK ROAD  COOPER LANDING  99572     M   \n",
       "9                 601 FIRST STREET         CORDOVA  99574     M   \n",
       "\n",
       "             ADDRES_M  ... GEOSCORE       GEOMTYPE C19CLOSE C19PUBSV  \\\n",
       "0        P.O. BOX 129  ...   100.00   POINTADDRESS        M        M   \n",
       "1  3600 DENALI STREET  ...   100.00   POINTADDRESS        N        Y   \n",
       "2       P.O. BOX 3078  ...    99.62  STREETADDRESS        Y        Y   \n",
       "3        P.O. BOX 368  ...   100.00         MANUAL        N        N   \n",
       "4     P.O. BOX 520829  ...    99.58   POINTADDRESS        Y        Y   \n",
       "5         P.O. BOX 68  ...   100.00         MANUAL        N        Y   \n",
       "6       P.O. BOX 5610  ...    99.90  STREETADDRESS        N        N   \n",
       "7         P.O. BOX 87  ...   100.00         MANUAL        Y        Y   \n",
       "8        P.O. BOX 517  ...   100.00   POINTADDRESS        N        N   \n",
       "9       P.O. BOX 1210  ...   100.00         MANUAL        N        N   \n",
       "\n",
       "   C19ECRD2 C19REFER C19OUTSD C19XWIF2 C19XWIF3 C19STOTH  \n",
       "0         M        N        M        M        M        M  \n",
       "1         N        Y        N        N        Y        N  \n",
       "2         Y        Y        N        Y        N        Y  \n",
       "3         N        N        N        N        N        N  \n",
       "4         Y        Y        Y        N        N        N  \n",
       "5         N        Y        Y        Y        Y        N  \n",
       "6         N        N        N        N        N        N  \n",
       "7         N        Y        Y        N        N        N  \n",
       "8         N        N        N        Y        Y        N  \n",
       "9         N        N        N        N        N        N  \n",
       "\n",
       "[10 rows x 193 columns]"
      ]
     },
     "execution_count": 24,
     "metadata": {},
     "output_type": "execute_result"
    }
   ],
   "source": [
    "df_public_libraries.head(10)"
   ]
  },
  {
   "cell_type": "code",
   "execution_count": 25,
   "id": "16c8564c-5e38-4cca-8248-81f5a9744255",
   "metadata": {},
   "outputs": [
    {
     "data": {
      "text/plain": [
       "(9248, 193)"
      ]
     },
     "execution_count": 25,
     "metadata": {},
     "output_type": "execute_result"
    }
   ],
   "source": [
    "df_public_libraries.shape"
   ]
  },
  {
   "cell_type": "code",
   "execution_count": 26,
   "id": "439378f7-f689-4884-9e13-0e1e13b56f8f",
   "metadata": {},
   "outputs": [
    {
     "data": {
      "text/plain": [
       "Unnamed: 0    0\n",
       "STABR         0\n",
       "FSCSKEY       0\n",
       "LIBID         0\n",
       "LIBNAME       0\n",
       "             ..\n",
       "C19REFER      0\n",
       "C19OUTSD      0\n",
       "C19XWIF2      0\n",
       "C19XWIF3      0\n",
       "C19STOTH      0\n",
       "Length: 193, dtype: int64"
      ]
     },
     "execution_count": 26,
     "metadata": {},
     "output_type": "execute_result"
    }
   ],
   "source": [
    "# Check for missing values\n",
    "\n",
    "df_public_libraries.isnull().sum()"
   ]
  },
  {
   "cell_type": "code",
   "execution_count": 27,
   "id": "d8f9e90d-0c9c-4f01-882e-862619ca4a50",
   "metadata": {},
   "outputs": [],
   "source": [
    "# Check for duplicates\n",
    "\n",
    "dups = df_public_libraries.duplicated()"
   ]
  },
  {
   "cell_type": "code",
   "execution_count": 28,
   "id": "9a33776f-1d98-4c85-be5c-393775019bdc",
   "metadata": {},
   "outputs": [
    {
     "data": {
      "text/plain": [
       "(9248,)"
      ]
     },
     "execution_count": 28,
     "metadata": {},
     "output_type": "execute_result"
    }
   ],
   "source": [
    "dups.shape"
   ]
  },
  {
   "cell_type": "code",
   "execution_count": 30,
   "id": "a4c5e7c9-5578-4066-89ae-165b68eccc50",
   "metadata": {},
   "outputs": [
    {
     "data": {
      "image/png": "[encoded data removed]",
      "text/plain": [
       "<Figure size 640x480 with 1 Axes>"
      ]
     },
     "metadata": {},
     "output_type": "display_data"
    },
    {
     "data": {
      "image/png": "[encoded data removed]",
      "text/plain": [
       "<Figure size 500x500 with 1 Axes>"
      ]
     },
     "metadata": {},
     "output_type": "display_data"
    },
    {
     "data": {
      "image/png": "[encoded data removed]",
      "text/plain": [
       "<Figure size 500x500 with 1 Axes>"
      ]
     },
     "metadata": {},
     "output_type": "display_data"
    },
    {
     "data": {
      "image/png": "[encoded data removed]",
      "text/plain": [
       "<Figure size 500x500 with 1 Axes>"
      ]
     },
     "metadata": {},
     "output_type": "display_data"
    }
   ],
   "source": [
    "# Extreme values check \n",
    "\n",
    "sns.displot(df_public_libraries['REGBOR'], bins=25)\n",
    "plt.show()"
   ]
  },
  {
   "cell_type": "markdown",
   "id": "c21826f7-8522-4b6c-812c-3ff0a39695b0",
   "metadata": {},
   "source": [
    "#### There are some extreme values, with some even lower than 0 which isn't possible - you can't have negative registered users. "
   ]
  },
  {
   "cell_type": "code",
   "execution_count": 31,
   "id": "78c9d2e3-58bd-44ae-a3f5-36d0052bf48e",
   "metadata": {},
   "outputs": [
    {
     "data": {
      "text/plain": [
       "16996.310121107268"
      ]
     },
     "execution_count": 31,
     "metadata": {},
     "output_type": "execute_result"
    }
   ],
   "source": [
    "# Check the mean\n",
    "\n",
    "df_public_libraries['REGBOR'].mean()"
   ]
  },
  {
   "cell_type": "code",
   "execution_count": 32,
   "id": "21a42f19-4979-479a-b8ac-d5db714eb4d9",
   "metadata": {},
   "outputs": [
    {
     "data": {
      "text/plain": [
       "3004.5"
      ]
     },
     "execution_count": 32,
     "metadata": {},
     "output_type": "execute_result"
    }
   ],
   "source": [
    "# Check the median\n",
    "\n",
    "df_public_libraries['REGBOR'].median()"
   ]
  },
  {
   "cell_type": "code",
   "execution_count": 33,
   "id": "8377d171-7862-4f1f-b9d8-e98579fc2891",
   "metadata": {},
   "outputs": [
    {
     "data": {
      "text/plain": [
       "2863691"
      ]
     },
     "execution_count": 33,
     "metadata": {},
     "output_type": "execute_result"
    }
   ],
   "source": [
    "# Check the max\n",
    "\n",
    "df_public_libraries['REGBOR'].max()"
   ]
  },
  {
   "cell_type": "code",
   "execution_count": 34,
   "id": "25003fbb-031a-4e1e-b7b1-a4d3b5aecc5e",
   "metadata": {},
   "outputs": [
    {
     "data": {
      "text/plain": [
       "-3"
      ]
     },
     "execution_count": 34,
     "metadata": {},
     "output_type": "execute_result"
    }
   ],
   "source": [
    "# Check the min\n",
    "\n",
    "df_public_libraries['REGBOR'].min()"
   ]
  },
  {
   "cell_type": "markdown",
   "id": "a1a8edf5-4c8a-489a-8132-6d6e08eae939",
   "metadata": {},
   "source": [
    "# 04. Data Prep for Regression Analysis"
   ]
  },
  {
   "cell_type": "code",
   "execution_count": 36,
   "id": "61b1ece0-2a2d-48b8-b37c-5a3d17806ebf",
   "metadata": {},
   "outputs": [
    {
     "data": {
      "image/png": "[encoded data removed]",
      "text/plain": [
       "<Figure size 640x480 with 1 Axes>"
      ]
     },
     "metadata": {},
     "output_type": "display_data"
    }
   ],
   "source": [
    "# Creating Scatterplot using matplotlib for another look at how the chosen variables plot against each other.\n",
    "\n",
    "df_public_libraries.plot(x = 'VISITS', y='REGBOR',style='o')\n",
    "plt.title('Registered Library Users vs. Total Annual Library Visits')  \n",
    "plt.xlabel('VISITS')  \n",
    "plt.ylabel('Registered Users')  \n",
    "plt.show()"
   ]
  },
  {
   "cell_type": "markdown",
   "id": "f6d03f74-27ee-4234-88a7-f2a35ed5114f",
   "metadata": {},
   "source": [
    "#### Hypothesis: Fewer registered users means fewers annual visits to the library."
   ]
  },
  {
   "cell_type": "code",
   "execution_count": 37,
   "id": "103ddb26-a192-4893-b2c0-25fb791005fc",
   "metadata": {},
   "outputs": [],
   "source": [
    "# Reshape the variables into NumPy arrays and put them into separate objects.\n",
    "\n",
    "X = df_public_libraries['VISITS'].values.reshape(-1,1)\n",
    "y = df_public_libraries['REGBOR'].values.reshape(-1,1)"
   ]
  },
  {
   "cell_type": "code",
   "execution_count": 38,
   "id": "a0186611-7bfb-425a-9f97-f400507fc110",
   "metadata": {},
   "outputs": [
    {
     "data": {
      "text/plain": [
       "array([[  5127],\n",
       "       [261807],\n",
       "       [   421],\n",
       "       ...,\n",
       "       [ 71067],\n",
       "       [ 44650],\n",
       "       [ 25230]], dtype=int64)"
      ]
     },
     "execution_count": 38,
     "metadata": {},
     "output_type": "execute_result"
    }
   ],
   "source": [
    "X"
   ]
  },
  {
   "cell_type": "code",
   "execution_count": 39,
   "id": "1efdda75-8baf-48b8-8a5c-3ef560a90f96",
   "metadata": {},
   "outputs": [
    {
     "data": {
      "text/plain": [
       "array([[  1950],\n",
       "       [123846],\n",
       "       [   138],\n",
       "       ...,\n",
       "       [ 11107],\n",
       "       [  6850],\n",
       "       [  5056]], dtype=int64)"
      ]
     },
     "execution_count": 39,
     "metadata": {},
     "output_type": "execute_result"
    }
   ],
   "source": [
    "y"
   ]
  },
  {
   "cell_type": "code",
   "execution_count": 40,
   "id": "bf974d95-9d1c-4826-ab78-4643b699a6e9",
   "metadata": {},
   "outputs": [],
   "source": [
    "# Split data into a training set and a test set.\n",
    "\n",
    "X_train, X_test, y_train, y_test = train_test_split(X, y, test_size=0.3, random_state=0)"
   ]
  },
  {
   "cell_type": "markdown",
   "id": "5dd2b8cc-7b9d-46b1-9b09-2b6375bc8ad6",
   "metadata": {},
   "source": [
    "# 05. Regression Analysis"
   ]
  },
  {
   "cell_type": "code",
   "execution_count": 41,
   "id": "2837fe5e-7263-454a-977d-ee87377ceff2",
   "metadata": {},
   "outputs": [],
   "source": [
    "# Create a regression object.\n",
    "\n",
    "regression = LinearRegression()"
   ]
  },
  {
   "cell_type": "code",
   "execution_count": 42,
   "id": "97bd04ee-5a9d-47bf-b27d-a17e3caaa0be",
   "metadata": {},
   "outputs": [
    {
     "data": {
      "text/html": [
       "<style>#sk-container-id-1 {\n",
       "  /* Definition of color scheme common for light and dark mode */\n",
       "  --sklearn-color-text: black;\n",
       "  --sklearn-color-line: gray;\n",
       "  /* Definition of color scheme for unfitted estimators */\n",
       "  --sklearn-color-unfitted-level-0: #fff5e6;\n",
       "  --sklearn-color-unfitted-level-1: #f6e4d2;\n",
       "  --sklearn-color-unfitted-level-2: #ffe0b3;\n",
       "  --sklearn-color-unfitted-level-3: chocolate;\n",
       "  /* Definition of color scheme for fitted estimators */\n",
       "  --sklearn-color-fitted-level-0: #f0f8ff;\n",
       "  --sklearn-color-fitted-level-1: #d4ebff;\n",
       "  --sklearn-color-fitted-level-2: #b3dbfd;\n",
       "  --sklearn-color-fitted-level-3: cornflowerblue;\n",
       "\n",
       "  /* Specific color for light theme */\n",
       "  --sklearn-color-text-on-default-background: var(--sg-text-color, var(--theme-code-foreground, var(--jp-content-font-color1, black)));\n",
       "  --sklearn-color-background: var(--sg-background-color, var(--theme-background, var(--jp-layout-color0, white)));\n",
       "  --sklearn-color-border-box: var(--sg-text-color, var(--theme-code-foreground, var(--jp-content-font-color1, black)));\n",
       "  --sklearn-color-icon: #696969;\n",
       "\n",
       "  @media (prefers-color-scheme: dark) {\n",
       "    /* Redefinition of color scheme for dark theme */\n",
       "    --sklearn-color-text-on-default-background: var(--sg-text-color, var(--theme-code-foreground, var(--jp-content-font-color1, white)));\n",
       "    --sklearn-color-background: var(--sg-background-color, var(--theme-background, var(--jp-layout-color0, #111)));\n",
       "    --sklearn-color-border-box: var(--sg-text-color, var(--theme-code-foreground, var(--jp-content-font-color1, white)));\n",
       "    --sklearn-color-icon: #878787;\n",
       "  }\n",
       "}\n",
       "\n",
       "#sk-container-id-1 {\n",
       "  color: var(--sklearn-color-text);\n",
       "}\n",
       "\n",
       "#sk-container-id-1 pre {\n",
       "  padding: 0;\n",
       "}\n",
       "\n",
       "#sk-container-id-1 input.sk-hidden--visually {\n",
       "  border: 0;\n",
       "  clip: rect(1px 1px 1px 1px);\n",
       "  clip: rect(1px, 1px, 1px, 1px);\n",
       "  height: 1px;\n",
       "  margin: -1px;\n",
       "  overflow: hidden;\n",
       "  padding: 0;\n",
       "  position: absolute;\n",
       "  width: 1px;\n",
       "}\n",
       "\n",
       "#sk-container-id-1 div.sk-dashed-wrapped {\n",
       "  border: 1px dashed var(--sklearn-color-line);\n",
       "  margin: 0 0.4em 0.5em 0.4em;\n",
       "  box-sizing: border-box;\n",
       "  padding-bottom: 0.4em;\n",
       "  background-color: var(--sklearn-color-background);\n",
       "}\n",
       "\n",
       "#sk-container-id-1 div.sk-container {\n",
       "  /* jupyter's `normalize.less` sets `[hidden] { display: none; }`\n",
       "     but bootstrap.min.css set `[hidden] { display: none !important; }`\n",
       "     so we also need the `!important` here to be able to override the\n",
       "     default hidden behavior on the sphinx rendered scikit-learn.org.\n",
       "     See: https://github.com/scikit-learn/scikit-learn/issues/21755 */\n",
       "  display: inline-block !important;\n",
       "  position: relative;\n",
       "}\n",
       "\n",
       "#sk-container-id-1 div.sk-text-repr-fallback {\n",
       "  display: none;\n",
       "}\n",
       "\n",
       "div.sk-parallel-item,\n",
       "div.sk-serial,\n",
       "div.sk-item {\n",
       "  /* draw centered vertical line to link estimators */\n",
       "  background-image: linear-gradient(var(--sklearn-color-text-on-default-background), var(--sklearn-color-text-on-default-background));\n",
       "  background-size: 2px 100%;\n",
       "  background-repeat: no-repeat;\n",
       "  background-position: center center;\n",
       "}\n",
       "\n",
       "/* Parallel-specific style estimator block */\n",
       "\n",
       "#sk-container-id-1 div.sk-parallel-item::after {\n",
       "  content: \"\";\n",
       "  width: 100%;\n",
       "  border-bottom: 2px solid var(--sklearn-color-text-on-default-background);\n",
       "  flex-grow: 1;\n",
       "}\n",
       "\n",
       "#sk-container-id-1 div.sk-parallel {\n",
       "  display: flex;\n",
       "  align-items: stretch;\n",
       "  justify-content: center;\n",
       "  background-color: var(--sklearn-color-background);\n",
       "  position: relative;\n",
       "}\n",
       "\n",
       "#sk-container-id-1 div.sk-parallel-item {\n",
       "  display: flex;\n",
       "  flex-direction: column;\n",
       "}\n",
       "\n",
       "#sk-container-id-1 div.sk-parallel-item:first-child::after {\n",
       "  align-self: flex-end;\n",
       "  width: 50%;\n",
       "}\n",
       "\n",
       "#sk-container-id-1 div.sk-parallel-item:last-child::after {\n",
       "  align-self: flex-start;\n",
       "  width: 50%;\n",
       "}\n",
       "\n",
       "#sk-container-id-1 div.sk-parallel-item:only-child::after {\n",
       "  width: 0;\n",
       "}\n",
       "\n",
       "/* Serial-specific style estimator block */\n",
       "\n",
       "#sk-container-id-1 div.sk-serial {\n",
       "  display: flex;\n",
       "  flex-direction: column;\n",
       "  align-items: center;\n",
       "  background-color: var(--sklearn-color-background);\n",
       "  padding-right: 1em;\n",
       "  padding-left: 1em;\n",
       "}\n",
       "\n",
       "\n",
       "/* Toggleable style: style used for estimator/Pipeline/ColumnTransformer box that is\n",
       "clickable and can be expanded/collapsed.\n",
       "- Pipeline and ColumnTransformer use this feature and define the default style\n",
       "- Estimators will overwrite some part of the style using the `sk-estimator` class\n",
       "*/\n",
       "\n",
       "/* Pipeline and ColumnTransformer style (default) */\n",
       "\n",
       "#sk-container-id-1 div.sk-toggleable {\n",
       "  /* Default theme specific background. It is overwritten whether we have a\n",
       "  specific estimator or a Pipeline/ColumnTransformer */\n",
       "  background-color: var(--sklearn-color-background);\n",
       "}\n",
       "\n",
       "/* Toggleable label */\n",
       "#sk-container-id-1 label.sk-toggleable__label {\n",
       "  cursor: pointer;\n",
       "  display: block;\n",
       "  width: 100%;\n",
       "  margin-bottom: 0;\n",
       "  padding: 0.5em;\n",
       "  box-sizing: border-box;\n",
       "  text-align: center;\n",
       "}\n",
       "\n",
       "#sk-container-id-1 label.sk-toggleable__label-arrow:before {\n",
       "  /* Arrow on the left of the label */\n",
       "  content: \"▸\";\n",
       "  float: left;\n",
       "  margin-right: 0.25em;\n",
       "  color: var(--sklearn-color-icon);\n",
       "}\n",
       "\n",
       "#sk-container-id-1 label.sk-toggleable__label-arrow:hover:before {\n",
       "  color: var(--sklearn-color-text);\n",
       "}\n",
       "\n",
       "/* Toggleable content - dropdown */\n",
       "\n",
       "#sk-container-id-1 div.sk-toggleable__content {\n",
       "  max-height: 0;\n",
       "  max-width: 0;\n",
       "  overflow: hidden;\n",
       "  text-align: left;\n",
       "  /* unfitted */\n",
       "  background-color: var(--sklearn-color-unfitted-level-0);\n",
       "}\n",
       "\n",
       "#sk-container-id-1 div.sk-toggleable__content.fitted {\n",
       "  /* fitted */\n",
       "  background-color: var(--sklearn-color-fitted-level-0);\n",
       "}\n",
       "\n",
       "#sk-container-id-1 div.sk-toggleable__content pre {\n",
       "  margin: 0.2em;\n",
       "  border-radius: 0.25em;\n",
       "  color: var(--sklearn-color-text);\n",
       "  /* unfitted */\n",
       "  background-color: var(--sklearn-color-unfitted-level-0);\n",
       "}\n",
       "\n",
       "#sk-container-id-1 div.sk-toggleable__content.fitted pre {\n",
       "  /* unfitted */\n",
       "  background-color: var(--sklearn-color-fitted-level-0);\n",
       "}\n",
       "\n",
       "#sk-container-id-1 input.sk-toggleable__control:checked~div.sk-toggleable__content {\n",
       "  /* Expand drop-down */\n",
       "  max-height: 200px;\n",
       "  max-width: 100%;\n",
       "  overflow: auto;\n",
       "}\n",
       "\n",
       "#sk-container-id-1 input.sk-toggleable__control:checked~label.sk-toggleable__label-arrow:before {\n",
       "  content: \"▾\";\n",
       "}\n",
       "\n",
       "/* Pipeline/ColumnTransformer-specific style */\n",
       "\n",
       "#sk-container-id-1 div.sk-label input.sk-toggleable__control:checked~label.sk-toggleable__label {\n",
       "  color: var(--sklearn-color-text);\n",
       "  background-color: var(--sklearn-color-unfitted-level-2);\n",
       "}\n",
       "\n",
       "#sk-container-id-1 div.sk-label.fitted input.sk-toggleable__control:checked~label.sk-toggleable__label {\n",
       "  background-color: var(--sklearn-color-fitted-level-2);\n",
       "}\n",
       "\n",
       "/* Estimator-specific style */\n",
       "\n",
       "/* Colorize estimator box */\n",
       "#sk-container-id-1 div.sk-estimator input.sk-toggleable__control:checked~label.sk-toggleable__label {\n",
       "  /* unfitted */\n",
       "  background-color: var(--sklearn-color-unfitted-level-2);\n",
       "}\n",
       "\n",
       "#sk-container-id-1 div.sk-estimator.fitted input.sk-toggleable__control:checked~label.sk-toggleable__label {\n",
       "  /* fitted */\n",
       "  background-color: var(--sklearn-color-fitted-level-2);\n",
       "}\n",
       "\n",
       "#sk-container-id-1 div.sk-label label.sk-toggleable__label,\n",
       "#sk-container-id-1 div.sk-label label {\n",
       "  /* The background is the default theme color */\n",
       "  color: var(--sklearn-color-text-on-default-background);\n",
       "}\n",
       "\n",
       "/* On hover, darken the color of the background */\n",
       "#sk-container-id-1 div.sk-label:hover label.sk-toggleable__label {\n",
       "  color: var(--sklearn-color-text);\n",
       "  background-color: var(--sklearn-color-unfitted-level-2);\n",
       "}\n",
       "\n",
       "/* Label box, darken color on hover, fitted */\n",
       "#sk-container-id-1 div.sk-label.fitted:hover label.sk-toggleable__label.fitted {\n",
       "  color: var(--sklearn-color-text);\n",
       "  background-color: var(--sklearn-color-fitted-level-2);\n",
       "}\n",
       "\n",
       "/* Estimator label */\n",
       "\n",
       "#sk-container-id-1 div.sk-label label {\n",
       "  font-family: monospace;\n",
       "  font-weight: bold;\n",
       "  display: inline-block;\n",
       "  line-height: 1.2em;\n",
       "}\n",
       "\n",
       "#sk-container-id-1 div.sk-label-container {\n",
       "  text-align: center;\n",
       "}\n",
       "\n",
       "/* Estimator-specific */\n",
       "#sk-container-id-1 div.sk-estimator {\n",
       "  font-family: monospace;\n",
       "  border: 1px dotted var(--sklearn-color-border-box);\n",
       "  border-radius: 0.25em;\n",
       "  box-sizing: border-box;\n",
       "  margin-bottom: 0.5em;\n",
       "  /* unfitted */\n",
       "  background-color: var(--sklearn-color-unfitted-level-0);\n",
       "}\n",
       "\n",
       "#sk-container-id-1 div.sk-estimator.fitted {\n",
       "  /* fitted */\n",
       "  background-color: var(--sklearn-color-fitted-level-0);\n",
       "}\n",
       "\n",
       "/* on hover */\n",
       "#sk-container-id-1 div.sk-estimator:hover {\n",
       "  /* unfitted */\n",
       "  background-color: var(--sklearn-color-unfitted-level-2);\n",
       "}\n",
       "\n",
       "#sk-container-id-1 div.sk-estimator.fitted:hover {\n",
       "  /* fitted */\n",
       "  background-color: var(--sklearn-color-fitted-level-2);\n",
       "}\n",
       "\n",
       "/* Specification for estimator info (e.g. \"i\" and \"?\") */\n",
       "\n",
       "/* Common style for \"i\" and \"?\" */\n",
       "\n",
       ".sk-estimator-doc-link,\n",
       "a:link.sk-estimator-doc-link,\n",
       "a:visited.sk-estimator-doc-link {\n",
       "  float: right;\n",
       "  font-size: smaller;\n",
       "  line-height: 1em;\n",
       "  font-family: monospace;\n",
       "  background-color: var(--sklearn-color-background);\n",
       "  border-radius: 1em;\n",
       "  height: 1em;\n",
       "  width: 1em;\n",
       "  text-decoration: none !important;\n",
       "  margin-left: 1ex;\n",
       "  /* unfitted */\n",
       "  border: var(--sklearn-color-unfitted-level-1) 1pt solid;\n",
       "  color: var(--sklearn-color-unfitted-level-1);\n",
       "}\n",
       "\n",
       ".sk-estimator-doc-link.fitted,\n",
       "a:link.sk-estimator-doc-link.fitted,\n",
       "a:visited.sk-estimator-doc-link.fitted {\n",
       "  /* fitted */\n",
       "  border: var(--sklearn-color-fitted-level-1) 1pt solid;\n",
       "  color: var(--sklearn-color-fitted-level-1);\n",
       "}\n",
       "\n",
       "/* On hover */\n",
       "div.sk-estimator:hover .sk-estimator-doc-link:hover,\n",
       ".sk-estimator-doc-link:hover,\n",
       "div.sk-label-container:hover .sk-estimator-doc-link:hover,\n",
       ".sk-estimator-doc-link:hover {\n",
       "  /* unfitted */\n",
       "  background-color: var(--sklearn-color-unfitted-level-3);\n",
       "  color: var(--sklearn-color-background);\n",
       "  text-decoration: none;\n",
       "}\n",
       "\n",
       "div.sk-estimator.fitted:hover .sk-estimator-doc-link.fitted:hover,\n",
       ".sk-estimator-doc-link.fitted:hover,\n",
       "div.sk-label-container:hover .sk-estimator-doc-link.fitted:hover,\n",
       ".sk-estimator-doc-link.fitted:hover {\n",
       "  /* fitted */\n",
       "  background-color: var(--sklearn-color-fitted-level-3);\n",
       "  color: var(--sklearn-color-background);\n",
       "  text-decoration: none;\n",
       "}\n",
       "\n",
       "/* Span, style for the box shown on hovering the info icon */\n",
       ".sk-estimator-doc-link span {\n",
       "  display: none;\n",
       "  z-index: 9999;\n",
       "  position: relative;\n",
       "  font-weight: normal;\n",
       "  right: .2ex;\n",
       "  padding: .5ex;\n",
       "  margin: .5ex;\n",
       "  width: min-content;\n",
       "  min-width: 20ex;\n",
       "  max-width: 50ex;\n",
       "  color: var(--sklearn-color-text);\n",
       "  box-shadow: 2pt 2pt 4pt #999;\n",
       "  /* unfitted */\n",
       "  background: var(--sklearn-color-unfitted-level-0);\n",
       "  border: .5pt solid var(--sklearn-color-unfitted-level-3);\n",
       "}\n",
       "\n",
       ".sk-estimator-doc-link.fitted span {\n",
       "  /* fitted */\n",
       "  background: var(--sklearn-color-fitted-level-0);\n",
       "  border: var(--sklearn-color-fitted-level-3);\n",
       "}\n",
       "\n",
       ".sk-estimator-doc-link:hover span {\n",
       "  display: block;\n",
       "}\n",
       "\n",
       "/* \"?\"-specific style due to the `<a>` HTML tag */\n",
       "\n",
       "#sk-container-id-1 a.estimator_doc_link {\n",
       "  float: right;\n",
       "  font-size: 1rem;\n",
       "  line-height: 1em;\n",
       "  font-family: monospace;\n",
       "  background-color: var(--sklearn-color-background);\n",
       "  border-radius: 1rem;\n",
       "  height: 1rem;\n",
       "  width: 1rem;\n",
       "  text-decoration: none;\n",
       "  /* unfitted */\n",
       "  color: var(--sklearn-color-unfitted-level-1);\n",
       "  border: var(--sklearn-color-unfitted-level-1) 1pt solid;\n",
       "}\n",
       "\n",
       "#sk-container-id-1 a.estimator_doc_link.fitted {\n",
       "  /* fitted */\n",
       "  border: var(--sklearn-color-fitted-level-1) 1pt solid;\n",
       "  color: var(--sklearn-color-fitted-level-1);\n",
       "}\n",
       "\n",
       "/* On hover */\n",
       "#sk-container-id-1 a.estimator_doc_link:hover {\n",
       "  /* unfitted */\n",
       "  background-color: var(--sklearn-color-unfitted-level-3);\n",
       "  color: var(--sklearn-color-background);\n",
       "  text-decoration: none;\n",
       "}\n",
       "\n",
       "#sk-container-id-1 a.estimator_doc_link.fitted:hover {\n",
       "  /* fitted */\n",
       "  background-color: var(--sklearn-color-fitted-level-3);\n",
       "}\n",
       "</style><div id=\"sk-container-id-1\" class=\"sk-top-container\"><div class=\"sk-text-repr-fallback\"><pre>LinearRegression()</pre><b>In a Jupyter environment, please rerun this cell to show the HTML representation or trust the notebook. <br />On GitHub, the HTML representation is unable to render, please try loading this page with nbviewer.org.</b></div><div class=\"sk-container\" hidden><div class=\"sk-item\"><div class=\"sk-estimator fitted sk-toggleable\"><input class=\"sk-toggleable__control sk-hidden--visually\" id=\"sk-estimator-id-1\" type=\"checkbox\" checked><label for=\"sk-estimator-id-1\" class=\"sk-toggleable__label fitted sk-toggleable__label-arrow fitted\">&nbsp;&nbsp;LinearRegression<a class=\"sk-estimator-doc-link fitted\" rel=\"noreferrer\" target=\"_blank\" href=\"https://scikit-learn.org/1.5/modules/generated/sklearn.linear_model.LinearRegression.html\">?<span>Documentation for LinearRegression</span></a><span class=\"sk-estimator-doc-link fitted\">i<span>Fitted</span></span></label><div class=\"sk-toggleable__content fitted\"><pre>LinearRegression()</pre></div> </div></div></div></div>"
      ],
      "text/plain": [
       "LinearRegression()"
      ]
     },
     "execution_count": 42,
     "metadata": {},
     "output_type": "execute_result"
    }
   ],
   "source": [
    "# Fit the regression object onto the training set.\n",
    "\n",
    "regression.fit(X_train, y_train)"
   ]
  },
  {
   "cell_type": "code",
   "execution_count": 43,
   "id": "c34ccd8b-f4d4-4a38-a5ce-752a0c6b187a",
   "metadata": {},
   "outputs": [],
   "source": [
    "# Predict the values of y using X.\n",
    "\n",
    "y_predicted = regression.predict(X_test)"
   ]
  },
  {
   "cell_type": "code",
   "execution_count": 44,
   "id": "63ff9c2c-44ee-467c-9fe7-6a40136c5ea9",
   "metadata": {},
   "outputs": [
    {
     "data": {
      "image/png": "[encoded data removed]",
      "text/plain": [
       "<Figure size 640x480 with 1 Axes>"
      ]
     },
     "metadata": {},
     "output_type": "display_data"
    }
   ],
   "source": [
    "# Create a plot that shows the regression line from the model on the test set.\n",
    "\n",
    "plot_test = plt\n",
    "plot_test.scatter(X_test, y_test, color='gray', s = 15)\n",
    "plot_test.plot(X_test, y_predicted, color='red', linewidth =3)\n",
    "plot_test.title('Registered Library Users vs. Total Annual Library Visits (Test set)')\n",
    "plot_test.xlabel('Visits')\n",
    "plot_test.ylabel('Registered Users')\n",
    "plot_test.show()"
   ]
  },
  {
   "cell_type": "markdown",
   "id": "020234e8-4e02-47c0-8c36-bd916e2955d8",
   "metadata": {},
   "source": [
    "#### This line trends in a slight upward motion, which may suggest that the more registered users at the library, the more visits the library will see annually. I do think it's important to note that while this is a positive line, it's an overly-aggressive positive line. "
   ]
  },
  {
   "cell_type": "code",
   "execution_count": 45,
   "id": "571a61d3-52d9-4177-b44a-fb947fbf6b6f",
   "metadata": {},
   "outputs": [],
   "source": [
    "# Checking model performance statistics \n",
    "\n",
    "rmse = mean_squared_error(y_test, y_predicted)\n",
    "r2 = r2_score(y_test, y_predicted)"
   ]
  },
  {
   "cell_type": "code",
   "execution_count": 46,
   "id": "e8e4cb7f-428d-495a-8aa1-0cb090b3266e",
   "metadata": {},
   "outputs": [
    {
     "name": "stdout",
     "output_type": "stream",
     "text": [
      "Slope: [[0.24633999]]\n",
      "Mean squared error:  2820506513.8902698\n",
      "R2 score:  0.6008708220012811\n"
     ]
    }
   ],
   "source": [
    "# Print the model summary statistics to evaluate the performance of the model.\n",
    "\n",
    "print('Slope:' ,regression.coef_)\n",
    "print('Mean squared error: ', rmse)\n",
    "print('R2 score: ', r2)"
   ]
  },
  {
   "cell_type": "markdown",
   "id": "44ac522a-6be3-4e27-91d3-161eb836a337",
   "metadata": {},
   "source": [
    "#### Thoughts on model summary: \n",
    "    Slope is flatter than the ideal.\n",
    "    MSE is very large, which may suggest this model is not doing well. \n",
    "    R2 score (0.6008708220012811) is roughly 60%, which isn't awful and can be classified as \"moderately predictive.\" "
   ]
  },
  {
   "cell_type": "code",
   "execution_count": 47,
   "id": "9cf49d33-5a11-4feb-a1e5-055926faeb40",
   "metadata": {},
   "outputs": [
    {
     "data": {
      "text/plain": [
       "array([[  682.63087777],\n",
       "       [ -490.68649579],\n",
       "       [22238.8580646 ],\n",
       "       ...,\n",
       "       [ -130.04475007],\n",
       "       [   44.36396303],\n",
       "       [ 4569.38324394]])"
      ]
     },
     "execution_count": 47,
     "metadata": {},
     "output_type": "execute_result"
    }
   ],
   "source": [
    "y_predicted"
   ]
  },
  {
   "cell_type": "code",
   "execution_count": 48,
   "id": "abf05dc0-40db-4327-a244-5a91a45f3b57",
   "metadata": {},
   "outputs": [
    {
     "data": {
      "text/html": [
       "<div>\n",
       "<style scoped>\n",
       "    .dataframe tbody tr th:only-of-type {\n",
       "        vertical-align: middle;\n",
       "    }\n",
       "\n",
       "    .dataframe tbody tr th {\n",
       "        vertical-align: top;\n",
       "    }\n",
       "\n",
       "    .dataframe thead th {\n",
       "        text-align: right;\n",
       "    }\n",
       "</style>\n",
       "<table border=\"1\" class=\"dataframe\">\n",
       "  <thead>\n",
       "    <tr style=\"text-align: right;\">\n",
       "      <th></th>\n",
       "      <th>Actual</th>\n",
       "      <th>Predicted</th>\n",
       "    </tr>\n",
       "  </thead>\n",
       "  <tbody>\n",
       "    <tr>\n",
       "      <th>0</th>\n",
       "      <td>612</td>\n",
       "      <td>682.630878</td>\n",
       "    </tr>\n",
       "    <tr>\n",
       "      <th>1</th>\n",
       "      <td>893</td>\n",
       "      <td>-490.686496</td>\n",
       "    </tr>\n",
       "    <tr>\n",
       "      <th>2</th>\n",
       "      <td>7096</td>\n",
       "      <td>22238.858065</td>\n",
       "    </tr>\n",
       "    <tr>\n",
       "      <th>3</th>\n",
       "      <td>39967</td>\n",
       "      <td>74462.689658</td>\n",
       "    </tr>\n",
       "    <tr>\n",
       "      <th>4</th>\n",
       "      <td>5552</td>\n",
       "      <td>7581.628645</td>\n",
       "    </tr>\n",
       "    <tr>\n",
       "      <th>5</th>\n",
       "      <td>942</td>\n",
       "      <td>217.787316</td>\n",
       "    </tr>\n",
       "    <tr>\n",
       "      <th>6</th>\n",
       "      <td>46469</td>\n",
       "      <td>2664.189759</td>\n",
       "    </tr>\n",
       "    <tr>\n",
       "      <th>7</th>\n",
       "      <td>1183</td>\n",
       "      <td>-599.815111</td>\n",
       "    </tr>\n",
       "    <tr>\n",
       "      <th>8</th>\n",
       "      <td>9577</td>\n",
       "      <td>29635.216272</td>\n",
       "    </tr>\n",
       "    <tr>\n",
       "      <th>9</th>\n",
       "      <td>1160</td>\n",
       "      <td>4157.256440</td>\n",
       "    </tr>\n",
       "    <tr>\n",
       "      <th>10</th>\n",
       "      <td>3781</td>\n",
       "      <td>2678.723819</td>\n",
       "    </tr>\n",
       "    <tr>\n",
       "      <th>11</th>\n",
       "      <td>1950</td>\n",
       "      <td>3554.462484</td>\n",
       "    </tr>\n",
       "    <tr>\n",
       "      <th>12</th>\n",
       "      <td>190</td>\n",
       "      <td>761.706015</td>\n",
       "    </tr>\n",
       "    <tr>\n",
       "      <th>13</th>\n",
       "      <td>2680</td>\n",
       "      <td>1163.979219</td>\n",
       "    </tr>\n",
       "    <tr>\n",
       "      <th>14</th>\n",
       "      <td>4446</td>\n",
       "      <td>-537.983774</td>\n",
       "    </tr>\n",
       "    <tr>\n",
       "      <th>15</th>\n",
       "      <td>384</td>\n",
       "      <td>335.537832</td>\n",
       "    </tr>\n",
       "    <tr>\n",
       "      <th>16</th>\n",
       "      <td>479</td>\n",
       "      <td>-254.446445</td>\n",
       "    </tr>\n",
       "    <tr>\n",
       "      <th>17</th>\n",
       "      <td>20026</td>\n",
       "      <td>41142.249896</td>\n",
       "    </tr>\n",
       "    <tr>\n",
       "      <th>18</th>\n",
       "      <td>34034</td>\n",
       "      <td>177791.969288</td>\n",
       "    </tr>\n",
       "    <tr>\n",
       "      <th>19</th>\n",
       "      <td>32999</td>\n",
       "      <td>31573.911995</td>\n",
       "    </tr>\n",
       "    <tr>\n",
       "      <th>20</th>\n",
       "      <td>1693</td>\n",
       "      <td>718.842856</td>\n",
       "    </tr>\n",
       "    <tr>\n",
       "      <th>21</th>\n",
       "      <td>1042</td>\n",
       "      <td>2259.453155</td>\n",
       "    </tr>\n",
       "    <tr>\n",
       "      <th>22</th>\n",
       "      <td>4145</td>\n",
       "      <td>3868.545972</td>\n",
       "    </tr>\n",
       "    <tr>\n",
       "      <th>23</th>\n",
       "      <td>4854</td>\n",
       "      <td>2205.751037</td>\n",
       "    </tr>\n",
       "    <tr>\n",
       "      <th>24</th>\n",
       "      <td>977</td>\n",
       "      <td>2726.760117</td>\n",
       "    </tr>\n",
       "    <tr>\n",
       "      <th>25</th>\n",
       "      <td>557</td>\n",
       "      <td>216.801956</td>\n",
       "    </tr>\n",
       "    <tr>\n",
       "      <th>26</th>\n",
       "      <td>2389</td>\n",
       "      <td>3022.860785</td>\n",
       "    </tr>\n",
       "    <tr>\n",
       "      <th>27</th>\n",
       "      <td>1177</td>\n",
       "      <td>1685.480978</td>\n",
       "    </tr>\n",
       "    <tr>\n",
       "      <th>28</th>\n",
       "      <td>1400</td>\n",
       "      <td>1511.564945</td>\n",
       "    </tr>\n",
       "    <tr>\n",
       "      <th>29</th>\n",
       "      <td>15425</td>\n",
       "      <td>31709.891670</td>\n",
       "    </tr>\n",
       "  </tbody>\n",
       "</table>\n",
       "</div>"
      ],
      "text/plain": [
       "    Actual      Predicted\n",
       "0      612     682.630878\n",
       "1      893    -490.686496\n",
       "2     7096   22238.858065\n",
       "3    39967   74462.689658\n",
       "4     5552    7581.628645\n",
       "5      942     217.787316\n",
       "6    46469    2664.189759\n",
       "7     1183    -599.815111\n",
       "8     9577   29635.216272\n",
       "9     1160    4157.256440\n",
       "10    3781    2678.723819\n",
       "11    1950    3554.462484\n",
       "12     190     761.706015\n",
       "13    2680    1163.979219\n",
       "14    4446    -537.983774\n",
       "15     384     335.537832\n",
       "16     479    -254.446445\n",
       "17   20026   41142.249896\n",
       "18   34034  177791.969288\n",
       "19   32999   31573.911995\n",
       "20    1693     718.842856\n",
       "21    1042    2259.453155\n",
       "22    4145    3868.545972\n",
       "23    4854    2205.751037\n",
       "24     977    2726.760117\n",
       "25     557     216.801956\n",
       "26    2389    3022.860785\n",
       "27    1177    1685.480978\n",
       "28    1400    1511.564945\n",
       "29   15425   31709.891670"
      ]
     },
     "execution_count": 48,
     "metadata": {},
     "output_type": "execute_result"
    }
   ],
   "source": [
    "# Compare the actual and predicted values of y.\n",
    "\n",
    "data = pd.DataFrame({'Actual': y_test.flatten(), 'Predicted': y_predicted.flatten()})\n",
    "data.head(30)"
   ]
  },
  {
   "cell_type": "markdown",
   "id": "166610a5-2f04-4f30-abaa-f7792426e26e",
   "metadata": {},
   "source": [
    "#### Thoughts on model performance:\n",
    "    Looking at the actual vs predicted values of y, there are some huge differences between the values, which shows the regression model does not fit the data well. There are some negative predictions on positive values as well, showing this is a poor model which also matches with the quantitative metrics. The R2 quantity (0.6008708220012811) shows us that there is a relationship and that visits do explain part of the counts, but not in any meaningful way. \n",
    "    Some bias to think about when comparing these two data points are: \n",
    "        One person can visit the library often, causing high visits, but low registered users. \n",
    "        One library could have many cardholders who rarely visit, causing high registers users, but low visits. \n",
    "        City libraries will look differently than rural libraries. \n",
    "    While these two data points are related, there is still a lot of information we have yet to uncover and there are multiple factors that made this model ineffective such as population size, libary size, all of the different programming, circulation, etc.\n"
   ]
  },
  {
   "cell_type": "code",
   "execution_count": null,
   "id": "c00f6f82-4f85-494f-9168-d22f1282a33f",
   "metadata": {},
   "outputs": [],
   "source": []
  }
 ],
 "metadata": {
  "kernelspec": {
   "display_name": "Python 3 (ipykernel)",
   "language": "python",
   "name": "python3"
  },
  "language_info": {
   "codemirror_mode": {
    "name": "ipython",
    "version": 3
   },
   "file_extension": ".py",
   "mimetype": "text/x-python",
   "name": "python",
   "nbconvert_exporter": "python",
   "pygments_lexer": "ipython3",
   "version": "3.12.7"
  }
 },
 "nbformat": 4,
 "nbformat_minor": 5
}
